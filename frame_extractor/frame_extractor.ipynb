{
 "cells": [
  {
   "cell_type": "markdown",
   "id": "toxic-scanning",
   "metadata": {},
   "source": [
    "# Frame Extractor"
   ]
  },
  {
   "cell_type": "markdown",
   "id": "young-custom",
   "metadata": {},
   "source": [
    "This script extracts frames from a video at a predefined interval."
   ]
  },
  {
   "cell_type": "code",
   "execution_count": 10,
   "id": "crazy-cleanup",
   "metadata": {},
   "outputs": [],
   "source": [
    "import cv2\n",
    "import os"
   ]
  },
  {
   "cell_type": "code",
   "execution_count": 11,
   "id": "developing-beads",
   "metadata": {},
   "outputs": [],
   "source": [
    "# Function to extract frames from a video at a predefined interval\n",
    "def extract_frames(video_path, output_folder, frame_rate):\n",
    "    # Open the video file\n",
    "    video_capture = cv2.VideoCapture(video_path)\n",
    "\n",
    "    # Get video properties\n",
    "    fps = video_capture.get(cv2.CAP_PROP_FPS)\n",
    "    total_frames = int(video_capture.get(cv2.CAP_PROP_FRAME_COUNT))\n",
    "\n",
    "    # Calculate the frame interval based on the desired frame rate\n",
    "    frame_interval = int(fps / frame_rate)\n",
    "\n",
    "    # Create the output folder if it doesn't exist\n",
    "    os.makedirs(output_folder, exist_ok=True)\n",
    "\n",
    "    # Loop through frames and save them at the specified frame rate\n",
    "    current_frame = 0\n",
    "    while True:\n",
    "        ret, frame = video_capture.read()\n",
    "\n",
    "        if not ret:\n",
    "            break\n",
    "\n",
    "        # Save frame if it's at the desired interval\n",
    "        if current_frame % frame_interval == 0:\n",
    "            frame_filename = os.path.join(output_folder, f\"frame_{current_frame}.jpg\")\n",
    "            cv2.imwrite(frame_filename, frame)\n",
    "\n",
    "        current_frame += 1\n",
    "\n",
    "    # Release the video capture object\n",
    "    video_capture.release()"
   ]
  },
  {
   "cell_type": "code",
   "execution_count": 12,
   "id": "steady-lover",
   "metadata": {},
   "outputs": [],
   "source": [
    "video_path = \"slalom.mp4\"\n",
    "output_folder = \"Frames\"\n",
    "frame_rate = 1  # Set your desired frame rate (frames per second)\n",
    "\n",
    "extract_frames(video_path, output_folder, frame_rate)"
   ]
  }
 ],
 "metadata": {
  "kernelspec": {
   "display_name": "Python 3",
   "language": "python",
   "name": "python3"
  },
  "language_info": {
   "codemirror_mode": {
    "name": "ipython",
    "version": 3
   },
   "file_extension": ".py",
   "mimetype": "text/x-python",
   "name": "python",
   "nbconvert_exporter": "python",
   "pygments_lexer": "ipython3",
   "version": "3.8.18"
  }
 },
 "nbformat": 4,
 "nbformat_minor": 5
}
